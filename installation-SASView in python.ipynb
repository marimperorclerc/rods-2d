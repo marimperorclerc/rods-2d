{
 "cells": [
  {
   "cell_type": "markdown",
   "id": "1964cebd",
   "metadata": {},
   "source": [
    "### installation of SASView packages in python"
   ]
  },
  {
   "cell_type": "markdown",
   "id": "0e645e60",
   "metadata": {},
   "source": [
    "need to have python and pip installed before this step !"
   ]
  },
  {
   "cell_type": "code",
   "execution_count": 1,
   "id": "32194f63",
   "metadata": {},
   "outputs": [
    {
     "name": "stdout",
     "output_type": "stream",
     "text": [
      "Requirement already satisfied: bumps==0.9.1 in c:\\users\\administrateur\\appdata\\local\\programs\\python\\python310\\lib\\site-packages (0.9.1)\n",
      "Requirement already satisfied: six in c:\\users\\administrateur\\appdata\\local\\programs\\python\\python310\\lib\\site-packages (from bumps==0.9.1) (1.16.0)\n"
     ]
    },
    {
     "name": "stderr",
     "output_type": "stream",
     "text": [
      "\n",
      "[notice] A new release of pip available: 22.3 -> 25.1.1\n",
      "[notice] To update, run: python.exe -m pip install --upgrade pip\n"
     ]
    },
    {
     "name": "stdout",
     "output_type": "stream",
     "text": [
      "Requirement already satisfied: sasmodels==1.0.7 in c:\\users\\administrateur\\appdata\\local\\programs\\python\\python310\\lib\\site-packages (1.0.7)\n",
      "Requirement already satisfied: scipy in c:\\users\\administrateur\\appdata\\local\\programs\\python\\python310\\lib\\site-packages (from sasmodels==1.0.7) (1.15.2)\n",
      "Requirement already satisfied: numpy in c:\\users\\administrateur\\appdata\\local\\programs\\python\\python310\\lib\\site-packages (from sasmodels==1.0.7) (1.24.4)\n"
     ]
    },
    {
     "name": "stderr",
     "output_type": "stream",
     "text": [
      "\n",
      "[notice] A new release of pip available: 22.3 -> 25.1.1\n",
      "[notice] To update, run: python.exe -m pip install --upgrade pip\n"
     ]
    },
    {
     "name": "stdout",
     "output_type": "stream",
     "text": [
      "Requirement already satisfied: sasdata==0.9.0 in c:\\users\\administrateur\\appdata\\local\\programs\\python\\python310\\lib\\site-packages (0.9.0)\n",
      "Requirement already satisfied: h5py in c:\\users\\administrateur\\appdata\\local\\programs\\python\\python310\\lib\\site-packages (from sasdata==0.9.0) (3.8.0)\n",
      "Requirement already satisfied: numpy in c:\\users\\administrateur\\appdata\\local\\programs\\python\\python310\\lib\\site-packages (from sasdata==0.9.0) (1.24.4)\n",
      "Requirement already satisfied: lxml in c:\\users\\administrateur\\appdata\\local\\programs\\python\\python310\\lib\\site-packages (from sasdata==0.9.0) (4.9.3)\n"
     ]
    },
    {
     "name": "stderr",
     "output_type": "stream",
     "text": [
      "\n",
      "[notice] A new release of pip available: 22.3 -> 25.1.1\n",
      "[notice] To update, run: python.exe -m pip install --upgrade pip\n"
     ]
    },
    {
     "name": "stdout",
     "output_type": "stream",
     "text": [
      "Requirement already satisfied: tol-colors in c:\\users\\administrateur\\appdata\\local\\programs\\python\\python310\\lib\\site-packages (1.4.0)\n",
      "Requirement already satisfied: matplotlib in c:\\users\\administrateur\\appdata\\local\\programs\\python\\python310\\lib\\site-packages (from tol-colors) (3.5.1)\n",
      "Requirement already satisfied: numpy in c:\\users\\administrateur\\appdata\\local\\programs\\python\\python310\\lib\\site-packages (from tol-colors) (1.24.4)\n",
      "Requirement already satisfied: packaging>=20.0 in c:\\users\\administrateur\\appdata\\local\\programs\\python\\python310\\lib\\site-packages (from matplotlib->tol-colors) (21.3)\n",
      "Requirement already satisfied: fonttools>=4.22.0 in c:\\users\\administrateur\\appdata\\local\\programs\\python\\python310\\lib\\site-packages (from matplotlib->tol-colors) (4.33.1)\n",
      "Requirement already satisfied: kiwisolver>=1.0.1 in c:\\users\\administrateur\\appdata\\local\\programs\\python\\python310\\lib\\site-packages (from matplotlib->tol-colors) (1.4.2)\n",
      "Requirement already satisfied: pyparsing>=2.2.1 in c:\\users\\administrateur\\appdata\\local\\programs\\python\\python310\\lib\\site-packages (from matplotlib->tol-colors) (3.0.8)\n",
      "Requirement already satisfied: python-dateutil>=2.7 in c:\\users\\administrateur\\appdata\\local\\programs\\python\\python310\\lib\\site-packages (from matplotlib->tol-colors) (2.8.2)\n",
      "Requirement already satisfied: pillow>=6.2.0 in c:\\users\\administrateur\\appdata\\local\\programs\\python\\python310\\lib\\site-packages (from matplotlib->tol-colors) (11.1.0)\n",
      "Requirement already satisfied: cycler>=0.10 in c:\\users\\administrateur\\appdata\\local\\programs\\python\\python310\\lib\\site-packages (from matplotlib->tol-colors) (0.11.0)\n",
      "Requirement already satisfied: six>=1.5 in c:\\users\\administrateur\\appdata\\local\\programs\\python\\python310\\lib\\site-packages (from python-dateutil>=2.7->matplotlib->tol-colors) (1.16.0)\n"
     ]
    },
    {
     "name": "stderr",
     "output_type": "stream",
     "text": [
      "\n",
      "[notice] A new release of pip available: 22.3 -> 25.1.1\n",
      "[notice] To update, run: python.exe -m pip install --upgrade pip\n"
     ]
    },
    {
     "name": "stdout",
     "output_type": "stream",
     "text": [
      "Requirement already satisfied: periodictable==1.6.1 in c:\\users\\administrateur\\appdata\\local\\programs\\python\\python310\\lib\\site-packages (1.6.1)\n",
      "Requirement already satisfied: pyparsing in c:\\users\\administrateur\\appdata\\local\\programs\\python\\python310\\lib\\site-packages (from periodictable==1.6.1) (3.0.8)\n",
      "Requirement already satisfied: numpy in c:\\users\\administrateur\\appdata\\local\\programs\\python\\python310\\lib\\site-packages (from periodictable==1.6.1) (1.24.4)\n"
     ]
    },
    {
     "name": "stderr",
     "output_type": "stream",
     "text": [
      "\n",
      "[notice] A new release of pip available: 22.3 -> 25.1.1\n",
      "[notice] To update, run: python.exe -m pip install --upgrade pip\n"
     ]
    },
    {
     "name": "stdout",
     "output_type": "stream",
     "text": [
      "Collecting git+https://github.com/SasView/sasview.git@v6.0.1\n",
      "  Cloning https://github.com/SasView/sasview.git (to revision v6.0.1) to c:\\users\\administrateur\\appdata\\local\\temp\\pip-req-build-6bfxlq7q\n",
      "  Resolved https://github.com/SasView/sasview.git to commit ea7ffa1de9b04dfa041ea64f6d3ef65cbd8188a8\n",
      "  Preparing metadata (setup.py): started\n",
      "  Preparing metadata (setup.py): finished with status 'done'\n",
      "Requirement already satisfied: bumps>=0.7.5.9 in c:\\users\\administrateur\\appdata\\local\\programs\\python\\python310\\lib\\site-packages (from sasview==6.0.1) (0.9.1)\n",
      "Requirement already satisfied: periodictable>=1.5.0 in c:\\users\\administrateur\\appdata\\local\\programs\\python\\python310\\lib\\site-packages (from sasview==6.0.1) (1.6.1)\n",
      "Requirement already satisfied: pyparsing>=2.0.0 in c:\\users\\administrateur\\appdata\\local\\programs\\python\\python310\\lib\\site-packages (from sasview==6.0.1) (3.0.8)\n",
      "Requirement already satisfied: lxml in c:\\users\\administrateur\\appdata\\local\\programs\\python\\python310\\lib\\site-packages (from sasview==6.0.1) (4.9.3)\n",
      "Requirement already satisfied: html5lib in c:\\users\\administrateur\\appdata\\local\\programs\\python\\python310\\lib\\site-packages (from sasview==6.0.1) (1.1)\n",
      "Requirement already satisfied: reportlab in c:\\users\\administrateur\\appdata\\local\\programs\\python\\python310\\lib\\site-packages (from sasview==6.0.1) (4.0.7)\n",
      "Requirement already satisfied: six in c:\\users\\administrateur\\appdata\\local\\programs\\python\\python310\\lib\\site-packages (from bumps>=0.7.5.9->sasview==6.0.1) (1.16.0)\n",
      "Requirement already satisfied: numpy in c:\\users\\administrateur\\appdata\\local\\programs\\python\\python310\\lib\\site-packages (from periodictable>=1.5.0->sasview==6.0.1) (1.24.4)\n",
      "Requirement already satisfied: webencodings in c:\\users\\administrateur\\appdata\\local\\programs\\python\\python310\\lib\\site-packages (from html5lib->sasview==6.0.1) (0.5.1)\n",
      "Requirement already satisfied: pillow>=9.0.0 in c:\\users\\administrateur\\appdata\\local\\programs\\python\\python310\\lib\\site-packages (from reportlab->sasview==6.0.1) (11.1.0)\n"
     ]
    },
    {
     "name": "stderr",
     "output_type": "stream",
     "text": [
      "  Running command git clone --filter=blob:none --quiet https://github.com/SasView/sasview.git 'C:\\Users\\Administrateur\\AppData\\Local\\Temp\\pip-req-build-6bfxlq7q'\n",
      "  Running command git checkout -q ea7ffa1de9b04dfa041ea64f6d3ef65cbd8188a8\n",
      "\n",
      "[notice] A new release of pip available: 22.3 -> 25.1.1\n",
      "[notice] To update, run: python.exe -m pip install --upgrade pip\n"
     ]
    }
   ],
   "source": [
    "# depending on your python environnement run  %pip or !pip \n",
    "# versions of each package can be upgraded\n",
    "!pip install bumps==0.9.1 \n",
    "!pip install sasmodels==1.0.7 \n",
    "#!pip install sasdata==0.8.1\n",
    "!pip install sasdata==0.9.0\n",
    "\n",
    "!pip install tol-colors\n",
    "!pip install periodictable==1.6.1\n",
    "\n",
    "!pip install git+https://github.com/SasView/sasview.git@v6.0.1\n"
   ]
  },
  {
   "cell_type": "markdown",
   "id": "a916d647",
   "metadata": {},
   "source": [
    "### check that bumps, sasdata, sasmodels and sas are installed\n",
    "Example using a global python environnement with python version 3.10.4 on Windows.\n",
    "User name and python version have to be adapted.\n",
    "* C:\\Users\\Administrateur\\AppData\\Local\\Programs\\Python\\Python310\\Lib\\site-packages\n",
    "\n",
    "* C:\\Users\\IMPÉROR\\AppData\\Local\\Programs\\Python\\Python310\\Lib\\site-packages\n",
    "\n",
    "* Creating a virtual python environnement using ven is VSCode is probably better ... to learn later !"
   ]
  },
  {
   "cell_type": "markdown",
   "id": "4165ae8b",
   "metadata": {},
   "source": [
    "### run this command to know the version of all python packages\n",
    "* numpy, mathplotlib, scipy, etc ...\n",
    "* bumps\n",
    "* sasmodels, sasdata, sas"
   ]
  },
  {
   "cell_type": "code",
   "execution_count": 3,
   "id": "4b0dfb3b",
   "metadata": {},
   "outputs": [
    {
     "name": "stdout",
     "output_type": "stream",
     "text": [
      "Package                       Version\n",
      "----------------------------- ------------\n",
      "aiohttp                       3.8.3\n",
      "aiosignal                     1.2.0\n",
      "alabaster                     0.7.13\n",
      "appdirs                       1.4.4\n",
      "arabic-reshaper               3.0.0\n",
      "ase                           3.24.0\n",
      "asn1crypto                    1.5.1\n",
      "astroid                       3.0.1\n",
      "asttokens                     2.2.1\n",
      "async-timeout                 4.0.2\n",
      "atomicwrites                  1.4.1\n",
      "attrs                         23.2.0\n",
      "Automat                       22.10.0\n",
      "Babel                         2.13.1\n",
      "backcall                      0.2.0\n",
      "BaselineRemoval               0.0.7\n",
      "bqplot                        0.12.42\n",
      "bumps                         0.9.1\n",
      "cattrs                        23.2.3\n",
      "certifi                       2022.9.24\n",
      "cffi                          1.16.0\n",
      "charset-normalizer            2.1.1\n",
      "click                         8.1.7\n",
      "colorama                      0.4.6\n",
      "comm                          0.2.0\n",
      "constantly                    23.10.4\n",
      "cplot                         0.9.3\n",
      "cryptography                  41.0.5\n",
      "cssselect2                    0.7.0\n",
      "cycler                        0.11.0\n",
      "debugpy                       1.6.4\n",
      "decorator                     5.1.1\n",
      "dill                          0.3.7\n",
      "docutils                      0.20.1\n",
      "entrypoints                   0.4\n",
      "exceptiongroup                1.2.0\n",
      "executing                     1.2.0\n",
      "fabio                         2023.4.0\n",
      "fjson                         0.1.6\n",
      "fonttools                     4.33.1\n",
      "freetype-py                   2.3.0\n",
      "frozenlist                    1.3.1\n",
      "future                        0.18.3\n",
      "h5py                          3.8.0\n",
      "hdf5plugin                    4.1.1\n",
      "html5lib                      1.1\n",
      "hyperlink                     21.0.0\n",
      "idna                          3.4\n",
      "imageio                       2.37.0\n",
      "imagesize                     1.4.1\n",
      "incremental                   22.10.0\n",
      "ipydatawidgets                4.3.5\n",
      "ipykernel                     6.19.2\n",
      "ipympl                        0.9.7\n",
      "ipython                       8.7.0\n",
      "ipyvolume                     0.6.3\n",
      "ipyvue                        1.10.1\n",
      "ipyvuetify                    1.8.10\n",
      "ipywebrtc                     0.6.0\n",
      "ipywidgets                    8.1.1\n",
      "isort                         5.12.0\n",
      "jedi                          0.18.2\n",
      "Jinja2                        3.1.2\n",
      "joblib                        1.1.0\n",
      "jupyter_client                7.4.8\n",
      "jupyter_core                  5.1.0\n",
      "jupyterlab-widgets            3.0.9\n",
      "kiwisolver                    1.4.2\n",
      "lazy_loader                   0.4\n",
      "llvmlite                      0.41.1\n",
      "lxml                          4.9.3\n",
      "Mako                          1.3.0\n",
      "markdown-it-py                3.0.0\n",
      "MarkupSafe                    2.1.3\n",
      "matplotlib                    3.5.1\n",
      "matplotlib-inline             0.1.6\n",
      "matplotx                      0.3.10\n",
      "mccabe                        0.7.0\n",
      "mdurl                         0.1.2\n",
      "more-itertools                10.1.0\n",
      "mpmath                        1.3.0\n",
      "multidict                     6.0.2\n",
      "ndim                          0.1.22\n",
      "nest-asyncio                  1.5.6\n",
      "networkx                      3.2.1\n",
      "npx                           0.1.1\n",
      "ntplib                        0.4.0\n",
      "numba                         0.58.1\n",
      "numpy                         1.24.4\n",
      "oauthlib                      3.2.2\n",
      "orthopy                       0.9.8\n",
      "oscrypto                      1.3.0\n",
      "packaging                     21.3\n",
      "pandas                        2.1.3\n",
      "parso                         0.8.3\n",
      "periodictable                 1.6.1\n",
      "pickleshare                   0.7.5\n",
      "pillow                        11.1.0\n",
      "pip                           22.3\n",
      "platformdirs                  2.6.0\n",
      "pluggy                        0.13.1\n",
      "prismformfactors              1.0.0\n",
      "prompt-toolkit                3.0.36\n",
      "psutil                        5.9.4\n",
      "pure-eval                     0.2.2\n",
      "py                            1.11.0\n",
      "py-machineid                  0.4.6\n",
      "pybind11                      2.11.1\n",
      "pycairo                       1.25.1\n",
      "pycparser                     2.21\n",
      "Pygments                      2.16.1\n",
      "pyHanko                       0.20.1\n",
      "pyhanko-certvalidator         0.24.1\n",
      "pylebedev                     1.1.0\n",
      "pylint                        3.0.2\n",
      "PyNaCl                        1.5.0\n",
      "pyparsing                     3.0.8\n",
      "pypdf                         3.17.1\n",
      "pypng                         0.20220715.0\n",
      "PyQt5                         5.15.10\n",
      "PyQt5-Qt5                     5.15.2\n",
      "PyQt5-sip                     12.13.0\n",
      "pytest                        5.4.3\n",
      "python-bidi                   0.4.2\n",
      "python-dateutil               2.8.2\n",
      "python-license-manager        0.2.11\n",
      "pythreejs                     2.4.2\n",
      "pytz                          2022.5\n",
      "pywin32                       305\n",
      "PyYAML                        6.0.1\n",
      "pyzmq                         24.0.1\n",
      "qrcode                        7.4.2\n",
      "qt5reactor                    0.6.3\n",
      "qtconsole                     5.5.1\n",
      "QtPy                          2.4.1\n",
      "reportlab                     4.0.7\n",
      "requests                      2.28.1\n",
      "requests-cache                1.1.1\n",
      "rich                          13.7.0\n",
      "rich-argparse                 1.4.0\n",
      "rlPyCairo                     0.3.0\n",
      "sasdata                       0.9.0\n",
      "sasmodels                     1.0.7\n",
      "sasview                       6.0.1\n",
      "scikit-image                  0.25.2\n",
      "scikit-learn                  1.0.2\n",
      "scipy                         1.15.2\n",
      "setuptools                    58.1.0\n",
      "six                           1.16.0\n",
      "sklearn                       0.0\n",
      "snowballstemmer               2.2.0\n",
      "Sphinx                        7.2.6\n",
      "sphinxcontrib-applehelp       1.0.7\n",
      "sphinxcontrib-devhelp         1.0.5\n",
      "sphinxcontrib-htmlhelp        2.0.4\n",
      "sphinxcontrib-jsmath          1.0.1\n",
      "sphinxcontrib-qthelp          1.0.6\n",
      "sphinxcontrib-serializinghtml 1.1.9\n",
      "stack-data                    0.6.2\n",
      "svglib                        1.5.1\n",
      "sympy                         1.12\n",
      "termcolor                     1.1.0\n",
      "threadpoolctl                 3.1.0\n",
      "tifffile                      2025.3.13\n",
      "tinycc                        1.1\n",
      "tinycss2                      1.2.1\n",
      "tol_colors                    1.4.0\n",
      "tomli                         2.0.1\n",
      "tomli_w                       1.0.0\n",
      "tomlkit                       0.12.3\n",
      "tornado                       6.2\n",
      "traitlets                     5.7.1\n",
      "traittypes                    0.2.1\n",
      "Twisted                       23.10.0\n",
      "twisted-iocpsupport           1.0.4\n",
      "typing_extensions             4.8.0\n",
      "tzdata                        2023.3\n",
      "tzlocal                       5.2\n",
      "uncertainties                 3.1.7\n",
      "unittest-xml-reporting        3.2.0\n",
      "uritools                      4.0.2\n",
      "url-normalize                 1.4.3\n",
      "urllib3                       1.26.12\n",
      "wcwidth                       0.2.5\n",
      "webencodings                  0.5.1\n",
      "wget                          3.2\n",
      "widgetsnbextension            4.0.9\n",
      "winregistry                   1.1.1\n",
      "wolframclient                 1.1.7\n",
      "x21                           0.4.25\n",
      "xhtml2pdf                     0.2.13\n",
      "xmlrunner                     1.7.7\n",
      "yarl                          1.8.1\n",
      "zope.interface                6.1\n"
     ]
    },
    {
     "name": "stderr",
     "output_type": "stream",
     "text": [
      "\n",
      "[notice] A new release of pip available: 22.3 -> 25.1.1\n",
      "[notice] To update, run: python.exe -m pip install --upgrade pip\n"
     ]
    }
   ],
   "source": [
    "!pip list"
   ]
  }
 ],
 "metadata": {
  "kernelspec": {
   "display_name": "Python 3",
   "language": "python",
   "name": "python3"
  },
  "language_info": {
   "codemirror_mode": {
    "name": "ipython",
    "version": 3
   },
   "file_extension": ".py",
   "mimetype": "text/x-python",
   "name": "python",
   "nbconvert_exporter": "python",
   "pygments_lexer": "ipython3",
   "version": "3.10.4"
  }
 },
 "nbformat": 4,
 "nbformat_minor": 5
}
