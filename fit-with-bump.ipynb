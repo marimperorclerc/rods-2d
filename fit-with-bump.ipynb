{
 "cells": [
  {
   "cell_type": "markdown",
   "id": "d7f901af",
   "metadata": {},
   "source": [
    "### basic usage of bump python modulelibrary for curve fiting\n",
    "\n",
    "https://bumps.readthedocs.io/en/latest/index.html"
   ]
  },
  {
   "cell_type": "code",
   "execution_count": 1,
   "id": "d3481220",
   "metadata": {},
   "outputs": [
    {
     "name": "stdout",
     "output_type": "stream",
     "text": [
      "initial chisq 1230.72(57)\n",
      "final chisq 1.76(57)\n",
      "b : 0.111(58)\n",
      "m : 1.970(21)\n"
     ]
    }
   ],
   "source": [
    "from bumps.names import *\n",
    "\n",
    "x = [1, 2, 3, 4, 5, 6]\n",
    "y = [2.1, 4.0, 6.3, 8.03, 9.6, 11.9]\n",
    "dy = [0.05, 0.05, 0.2, 0.05, 0.2, 0.2]\n",
    "\n",
    "\n",
    "def line(x, m, b=0):\n",
    "    return m * x + b\n",
    "\n",
    "\n",
    "M = Curve(line, x, y, dy, m=2, b=2)\n",
    "M.m.range(0, 4)\n",
    "M.b.range(-5, 5)\n",
    "\n",
    "problem = FitProblem(M)\n",
    "\n",
    "from bumps.fitters import fit\n",
    "from bumps.formatnum import format_uncertainty\n",
    "\n",
    "print(\"initial chisq\", problem.chisq_str())\n",
    "result = fit(problem, method=\"lm\", xtol=1e-6, ftol=1e-8)\n",
    "print(\"final chisq\", problem.chisq_str())\n",
    "for k, v, dv in zip(problem.labels(), result.x, result.dx):\n",
    "    print(k, \":\", format_uncertainty(v, dv))"
   ]
  }
 ],
 "metadata": {
  "kernelspec": {
   "display_name": "Python 3",
   "language": "python",
   "name": "python3"
  },
  "language_info": {
   "codemirror_mode": {
    "name": "ipython",
    "version": 3
   },
   "file_extension": ".py",
   "mimetype": "text/x-python",
   "name": "python",
   "nbconvert_exporter": "python",
   "pygments_lexer": "ipython3",
   "version": "3.10.4"
  }
 },
 "nbformat": 4,
 "nbformat_minor": 5
}
